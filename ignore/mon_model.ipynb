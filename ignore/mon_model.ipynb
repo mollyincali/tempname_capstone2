{
 "cells": [
  {
   "cell_type": "code",
   "execution_count": 42,
   "metadata": {},
   "outputs": [],
   "source": [
    "import pandas as pd \n",
    "import numpy as np\n",
    "\n",
    "def get_csv(path):\n",
    "    df = pd.read_csv(path)\n",
    "    return df\n",
    "\n",
    "def test_df(orders_df, prior_df):\n",
    "    '''\n",
    "    input: \n",
    "       takes in the \"orders\" df to identifying those specific 75,000 test users\n",
    "       takes in the \"prior\" df to connect those test users to their itemized order\n",
    "\n",
    "    returns: \n",
    "        df of 75,000 users and their itemized last order\n",
    "        Only 2 columns not included: 1 for a duplicate column and 1 the label or train or test\n",
    "    '''\n",
    "    order_test = orders[orders['eval_set'] == \"test\"].copy()\n",
    "    order_test['prev'] = order_test['order_number'] - 1\n",
    "    order_test = order_test[['user_id', 'prev']]\n",
    "\n",
    "    merged_test = order_test.merge(orders, how='inner', left_on=[\"user_id\", \"prev\"], right_on=[\"user_id\",\"order_number\"])\n",
    "    merged_test[['user_id', 'prev', 'order_id', 'order_dow', 'order_hour_of_day', 'days_since_prior_order']]\n",
    "\n",
    "    test = pd.merge(merged_test, prior_df, on=\"order_id\") \n",
    "    test = test[['user_id', 'order_id', 'order_number', 'order_dow',\n",
    "       'order_hour_of_day', 'days_since_prior_order', 'product_id',\n",
    "       'add_to_cart_order', 'reordered']]\n",
    "\n",
    "    test_target = test.pop('reordered')\n",
    "    \n",
    "    return test, test_target\n",
    "\n",
    "def train_df(orders_df, train_df):\n",
    "    '''\n",
    "    input: \n",
    "        takes in the \"train\" df to identify my training users\n",
    "        takes in \"orders\" df to connect my train users to their most recent itemized orders\n",
    "\n",
    "    returns: \n",
    "        df of 131,209 users and their most recent itemized orders\n",
    "        Only 2 columns not included: 1 for a duplicate column and 1 the label or train or test\n",
    "    '''\n",
    "    train = pd.merge(order_train, orders, how='left')\n",
    "    train = train[['user_id', 'order_id', 'order_number', 'order_dow',\n",
    "       'order_hour_of_day', 'days_since_prior_order', 'product_id',\n",
    "       'add_to_cart_order', 'reordered']]\n",
    "    train_target = train.pop('reordered')\n",
    "    \n",
    "    return train, train_target "
   ]
  },
  {
   "cell_type": "code",
   "execution_count": 43,
   "metadata": {},
   "outputs": [],
   "source": [
    "#create all data frames\n",
    "aisle = get_csv('./instacart_data/aisles.csv')\n",
    "depart = get_csv('./instacart_data/departments.csv')\n",
    "products = get_csv('./instacart_data/products.csv')\n",
    "order_train = get_csv('./instacart_data/order_products__train.csv')\n",
    "order_prior = get_csv('./instacart_data/order_products__prior.csv')\n",
    "orders = get_csv('./instacart_data/orders.csv')\n",
    "\n",
    "X_test, y_test = test_df(orders, order_prior)\n",
    "X_train, y_train = train_df(orders, order_train)"
   ]
  },
  {
   "cell_type": "code",
   "execution_count": 44,
   "metadata": {},
   "outputs": [
    {
     "data": {
      "text/html": [
       "<div>\n",
       "<style scoped>\n",
       "    .dataframe tbody tr th:only-of-type {\n",
       "        vertical-align: middle;\n",
       "    }\n",
       "\n",
       "    .dataframe tbody tr th {\n",
       "        vertical-align: top;\n",
       "    }\n",
       "\n",
       "    .dataframe thead th {\n",
       "        text-align: right;\n",
       "    }\n",
       "</style>\n",
       "<table border=\"1\" class=\"dataframe\">\n",
       "  <thead>\n",
       "    <tr style=\"text-align: right;\">\n",
       "      <th></th>\n",
       "      <th>user_id</th>\n",
       "      <th>order_id</th>\n",
       "      <th>order_number</th>\n",
       "      <th>order_dow</th>\n",
       "      <th>order_hour_of_day</th>\n",
       "      <th>days_since_prior_order</th>\n",
       "      <th>product_id</th>\n",
       "      <th>add_to_cart_order</th>\n",
       "    </tr>\n",
       "  </thead>\n",
       "  <tbody>\n",
       "    <tr>\n",
       "      <th>0</th>\n",
       "      <td>3</td>\n",
       "      <td>1402502</td>\n",
       "      <td>12</td>\n",
       "      <td>1</td>\n",
       "      <td>15</td>\n",
       "      <td>15.0</td>\n",
       "      <td>39190</td>\n",
       "      <td>1</td>\n",
       "    </tr>\n",
       "    <tr>\n",
       "      <th>1</th>\n",
       "      <td>3</td>\n",
       "      <td>1402502</td>\n",
       "      <td>12</td>\n",
       "      <td>1</td>\n",
       "      <td>15</td>\n",
       "      <td>15.0</td>\n",
       "      <td>18599</td>\n",
       "      <td>2</td>\n",
       "    </tr>\n",
       "    <tr>\n",
       "      <th>2</th>\n",
       "      <td>3</td>\n",
       "      <td>1402502</td>\n",
       "      <td>12</td>\n",
       "      <td>1</td>\n",
       "      <td>15</td>\n",
       "      <td>15.0</td>\n",
       "      <td>23650</td>\n",
       "      <td>3</td>\n",
       "    </tr>\n",
       "    <tr>\n",
       "      <th>3</th>\n",
       "      <td>3</td>\n",
       "      <td>1402502</td>\n",
       "      <td>12</td>\n",
       "      <td>1</td>\n",
       "      <td>15</td>\n",
       "      <td>15.0</td>\n",
       "      <td>21903</td>\n",
       "      <td>4</td>\n",
       "    </tr>\n",
       "    <tr>\n",
       "      <th>4</th>\n",
       "      <td>3</td>\n",
       "      <td>1402502</td>\n",
       "      <td>12</td>\n",
       "      <td>1</td>\n",
       "      <td>15</td>\n",
       "      <td>15.0</td>\n",
       "      <td>47766</td>\n",
       "      <td>5</td>\n",
       "    </tr>\n",
       "    <tr>\n",
       "      <th>...</th>\n",
       "      <td>...</td>\n",
       "      <td>...</td>\n",
       "      <td>...</td>\n",
       "      <td>...</td>\n",
       "      <td>...</td>\n",
       "      <td>...</td>\n",
       "      <td>...</td>\n",
       "      <td>...</td>\n",
       "    </tr>\n",
       "    <tr>\n",
       "      <th>780795</th>\n",
       "      <td>206208</td>\n",
       "      <td>1882108</td>\n",
       "      <td>49</td>\n",
       "      <td>1</td>\n",
       "      <td>22</td>\n",
       "      <td>7.0</td>\n",
       "      <td>2643</td>\n",
       "      <td>13</td>\n",
       "    </tr>\n",
       "    <tr>\n",
       "      <th>780796</th>\n",
       "      <td>206208</td>\n",
       "      <td>1882108</td>\n",
       "      <td>49</td>\n",
       "      <td>1</td>\n",
       "      <td>22</td>\n",
       "      <td>7.0</td>\n",
       "      <td>21405</td>\n",
       "      <td>14</td>\n",
       "    </tr>\n",
       "    <tr>\n",
       "      <th>780797</th>\n",
       "      <td>206208</td>\n",
       "      <td>1882108</td>\n",
       "      <td>49</td>\n",
       "      <td>1</td>\n",
       "      <td>22</td>\n",
       "      <td>7.0</td>\n",
       "      <td>7632</td>\n",
       "      <td>15</td>\n",
       "    </tr>\n",
       "    <tr>\n",
       "      <th>780798</th>\n",
       "      <td>206208</td>\n",
       "      <td>1882108</td>\n",
       "      <td>49</td>\n",
       "      <td>1</td>\n",
       "      <td>22</td>\n",
       "      <td>7.0</td>\n",
       "      <td>1942</td>\n",
       "      <td>16</td>\n",
       "    </tr>\n",
       "    <tr>\n",
       "      <th>780799</th>\n",
       "      <td>206208</td>\n",
       "      <td>1882108</td>\n",
       "      <td>49</td>\n",
       "      <td>1</td>\n",
       "      <td>22</td>\n",
       "      <td>7.0</td>\n",
       "      <td>10385</td>\n",
       "      <td>17</td>\n",
       "    </tr>\n",
       "  </tbody>\n",
       "</table>\n",
       "<p>780800 rows × 8 columns</p>\n",
       "</div>"
      ],
      "text/plain": [
       "        user_id  order_id  order_number  order_dow  order_hour_of_day  \\\n",
       "0             3   1402502            12          1                 15   \n",
       "1             3   1402502            12          1                 15   \n",
       "2             3   1402502            12          1                 15   \n",
       "3             3   1402502            12          1                 15   \n",
       "4             3   1402502            12          1                 15   \n",
       "...         ...       ...           ...        ...                ...   \n",
       "780795   206208   1882108            49          1                 22   \n",
       "780796   206208   1882108            49          1                 22   \n",
       "780797   206208   1882108            49          1                 22   \n",
       "780798   206208   1882108            49          1                 22   \n",
       "780799   206208   1882108            49          1                 22   \n",
       "\n",
       "        days_since_prior_order  product_id  add_to_cart_order  \n",
       "0                         15.0       39190                  1  \n",
       "1                         15.0       18599                  2  \n",
       "2                         15.0       23650                  3  \n",
       "3                         15.0       21903                  4  \n",
       "4                         15.0       47766                  5  \n",
       "...                        ...         ...                ...  \n",
       "780795                     7.0        2643                 13  \n",
       "780796                     7.0       21405                 14  \n",
       "780797                     7.0        7632                 15  \n",
       "780798                     7.0        1942                 16  \n",
       "780799                     7.0       10385                 17  \n",
       "\n",
       "[780800 rows x 8 columns]"
      ]
     },
     "execution_count": 44,
     "metadata": {},
     "output_type": "execute_result"
    }
   ],
   "source": [
    "#look at testing data\n",
    "X_test"
   ]
  },
  {
   "cell_type": "code",
   "execution_count": 45,
   "metadata": {},
   "outputs": [
    {
     "data": {
      "text/html": [
       "<div>\n",
       "<style scoped>\n",
       "    .dataframe tbody tr th:only-of-type {\n",
       "        vertical-align: middle;\n",
       "    }\n",
       "\n",
       "    .dataframe tbody tr th {\n",
       "        vertical-align: top;\n",
       "    }\n",
       "\n",
       "    .dataframe thead th {\n",
       "        text-align: right;\n",
       "    }\n",
       "</style>\n",
       "<table border=\"1\" class=\"dataframe\">\n",
       "  <thead>\n",
       "    <tr style=\"text-align: right;\">\n",
       "      <th></th>\n",
       "      <th>user_id</th>\n",
       "      <th>order_id</th>\n",
       "      <th>order_number</th>\n",
       "      <th>order_dow</th>\n",
       "      <th>order_hour_of_day</th>\n",
       "      <th>days_since_prior_order</th>\n",
       "      <th>product_id</th>\n",
       "      <th>add_to_cart_order</th>\n",
       "    </tr>\n",
       "  </thead>\n",
       "  <tbody>\n",
       "    <tr>\n",
       "      <th>0</th>\n",
       "      <td>112108</td>\n",
       "      <td>1</td>\n",
       "      <td>4</td>\n",
       "      <td>4</td>\n",
       "      <td>10</td>\n",
       "      <td>9.0</td>\n",
       "      <td>49302</td>\n",
       "      <td>1</td>\n",
       "    </tr>\n",
       "    <tr>\n",
       "      <th>1</th>\n",
       "      <td>112108</td>\n",
       "      <td>1</td>\n",
       "      <td>4</td>\n",
       "      <td>4</td>\n",
       "      <td>10</td>\n",
       "      <td>9.0</td>\n",
       "      <td>11109</td>\n",
       "      <td>2</td>\n",
       "    </tr>\n",
       "    <tr>\n",
       "      <th>2</th>\n",
       "      <td>112108</td>\n",
       "      <td>1</td>\n",
       "      <td>4</td>\n",
       "      <td>4</td>\n",
       "      <td>10</td>\n",
       "      <td>9.0</td>\n",
       "      <td>10246</td>\n",
       "      <td>3</td>\n",
       "    </tr>\n",
       "    <tr>\n",
       "      <th>3</th>\n",
       "      <td>112108</td>\n",
       "      <td>1</td>\n",
       "      <td>4</td>\n",
       "      <td>4</td>\n",
       "      <td>10</td>\n",
       "      <td>9.0</td>\n",
       "      <td>49683</td>\n",
       "      <td>4</td>\n",
       "    </tr>\n",
       "    <tr>\n",
       "      <th>4</th>\n",
       "      <td>112108</td>\n",
       "      <td>1</td>\n",
       "      <td>4</td>\n",
       "      <td>4</td>\n",
       "      <td>10</td>\n",
       "      <td>9.0</td>\n",
       "      <td>43633</td>\n",
       "      <td>5</td>\n",
       "    </tr>\n",
       "    <tr>\n",
       "      <th>...</th>\n",
       "      <td>...</td>\n",
       "      <td>...</td>\n",
       "      <td>...</td>\n",
       "      <td>...</td>\n",
       "      <td>...</td>\n",
       "      <td>...</td>\n",
       "      <td>...</td>\n",
       "      <td>...</td>\n",
       "    </tr>\n",
       "    <tr>\n",
       "      <th>1384612</th>\n",
       "      <td>169679</td>\n",
       "      <td>3421063</td>\n",
       "      <td>30</td>\n",
       "      <td>0</td>\n",
       "      <td>10</td>\n",
       "      <td>4.0</td>\n",
       "      <td>14233</td>\n",
       "      <td>3</td>\n",
       "    </tr>\n",
       "    <tr>\n",
       "      <th>1384613</th>\n",
       "      <td>169679</td>\n",
       "      <td>3421063</td>\n",
       "      <td>30</td>\n",
       "      <td>0</td>\n",
       "      <td>10</td>\n",
       "      <td>4.0</td>\n",
       "      <td>35548</td>\n",
       "      <td>4</td>\n",
       "    </tr>\n",
       "    <tr>\n",
       "      <th>1384614</th>\n",
       "      <td>139822</td>\n",
       "      <td>3421070</td>\n",
       "      <td>15</td>\n",
       "      <td>6</td>\n",
       "      <td>10</td>\n",
       "      <td>8.0</td>\n",
       "      <td>35951</td>\n",
       "      <td>1</td>\n",
       "    </tr>\n",
       "    <tr>\n",
       "      <th>1384615</th>\n",
       "      <td>139822</td>\n",
       "      <td>3421070</td>\n",
       "      <td>15</td>\n",
       "      <td>6</td>\n",
       "      <td>10</td>\n",
       "      <td>8.0</td>\n",
       "      <td>16953</td>\n",
       "      <td>2</td>\n",
       "    </tr>\n",
       "    <tr>\n",
       "      <th>1384616</th>\n",
       "      <td>139822</td>\n",
       "      <td>3421070</td>\n",
       "      <td>15</td>\n",
       "      <td>6</td>\n",
       "      <td>10</td>\n",
       "      <td>8.0</td>\n",
       "      <td>4724</td>\n",
       "      <td>3</td>\n",
       "    </tr>\n",
       "  </tbody>\n",
       "</table>\n",
       "<p>1384617 rows × 8 columns</p>\n",
       "</div>"
      ],
      "text/plain": [
       "         user_id  order_id  order_number  order_dow  order_hour_of_day  \\\n",
       "0         112108         1             4          4                 10   \n",
       "1         112108         1             4          4                 10   \n",
       "2         112108         1             4          4                 10   \n",
       "3         112108         1             4          4                 10   \n",
       "4         112108         1             4          4                 10   \n",
       "...          ...       ...           ...        ...                ...   \n",
       "1384612   169679   3421063            30          0                 10   \n",
       "1384613   169679   3421063            30          0                 10   \n",
       "1384614   139822   3421070            15          6                 10   \n",
       "1384615   139822   3421070            15          6                 10   \n",
       "1384616   139822   3421070            15          6                 10   \n",
       "\n",
       "         days_since_prior_order  product_id  add_to_cart_order  \n",
       "0                           9.0       49302                  1  \n",
       "1                           9.0       11109                  2  \n",
       "2                           9.0       10246                  3  \n",
       "3                           9.0       49683                  4  \n",
       "4                           9.0       43633                  5  \n",
       "...                         ...         ...                ...  \n",
       "1384612                     4.0       14233                  3  \n",
       "1384613                     4.0       35548                  4  \n",
       "1384614                     8.0       35951                  1  \n",
       "1384615                     8.0       16953                  2  \n",
       "1384616                     8.0        4724                  3  \n",
       "\n",
       "[1384617 rows x 8 columns]"
      ]
     },
     "execution_count": 45,
     "metadata": {},
     "output_type": "execute_result"
    }
   ],
   "source": [
    "#look at training data\n",
    "X_train"
   ]
  },
  {
   "cell_type": "code",
   "execution_count": 46,
   "metadata": {},
   "outputs": [
    {
     "data": {
      "text/plain": [
       "False"
      ]
     },
     "execution_count": 46,
     "metadata": {},
     "output_type": "execute_result"
    }
   ],
   "source": [
    "#want to make sure that those in test df are not also in train\n",
    "set(X_train['user_id']) == set(X_test['user_id'])"
   ]
  },
  {
   "cell_type": "code",
   "execution_count": 47,
   "metadata": {},
   "outputs": [
    {
     "data": {
      "text/plain": [
       "0          1\n",
       "1          1\n",
       "2          0\n",
       "3          0\n",
       "4          1\n",
       "          ..\n",
       "1384612    1\n",
       "1384613    1\n",
       "1384614    1\n",
       "1384615    1\n",
       "1384616    1\n",
       "Name: reordered, Length: 1384617, dtype: int64"
      ]
     },
     "execution_count": 47,
     "metadata": {},
     "output_type": "execute_result"
    }
   ],
   "source": [
    "y_train"
   ]
  },
  {
   "cell_type": "code",
   "execution_count": 48,
   "metadata": {},
   "outputs": [
    {
     "data": {
      "text/plain": [
       "0         1\n",
       "1         1\n",
       "2         1\n",
       "3         1\n",
       "4         1\n",
       "         ..\n",
       "780795    1\n",
       "780796    0\n",
       "780797    0\n",
       "780798    0\n",
       "780799    1\n",
       "Name: reordered, Length: 780800, dtype: int64"
      ]
     },
     "execution_count": 48,
     "metadata": {},
     "output_type": "execute_result"
    }
   ],
   "source": [
    "y_test"
   ]
  },
  {
   "cell_type": "code",
   "execution_count": 24,
   "metadata": {},
   "outputs": [],
   "source": [
    "# saved to csv with old variable names\n",
    "# DO NOT RERUN\n",
    "# full_test.to_csv('test.csv')\n",
    "# test_target.to_csv('test_target.csv')\n",
    "# full_train.to_csv('train.csv')\n",
    "# train_target.to_csv('train_target.csv')"
   ]
  },
  {
   "cell_type": "code",
   "execution_count": 49,
   "metadata": {},
   "outputs": [
    {
     "name": "stdout",
     "output_type": "stream",
     "text": [
      "<class 'pandas.core.frame.DataFrame'>\n",
      "Int64Index: 1384617 entries, 0 to 1384616\n",
      "Data columns (total 8 columns):\n",
      " #   Column                  Non-Null Count    Dtype  \n",
      "---  ------                  --------------    -----  \n",
      " 0   user_id                 1384617 non-null  int64  \n",
      " 1   order_id                1384617 non-null  int64  \n",
      " 2   order_number            1384617 non-null  int64  \n",
      " 3   order_dow               1384617 non-null  int64  \n",
      " 4   order_hour_of_day       1384617 non-null  int64  \n",
      " 5   days_since_prior_order  1384617 non-null  float64\n",
      " 6   product_id              1384617 non-null  int64  \n",
      " 7   add_to_cart_order       1384617 non-null  int64  \n",
      "dtypes: float64(1), int64(7)\n",
      "memory usage: 95.1 MB\n"
     ]
    }
   ],
   "source": [
    "X_train.info()"
   ]
  },
  {
   "cell_type": "code",
   "execution_count": 31,
   "metadata": {},
   "outputs": [
    {
     "data": {
      "image/png": "[encoded data removed]",
      "text/plain": [
       "<Figure size 1152x720 with 25 Axes>"
      ]
     },
     "metadata": {
      "needs_background": "light"
     },
     "output_type": "display_data"
    }
   ],
   "source": [
    "#do not run again!\n",
    "# pd.plotting.scatter_matrix(full_train[['order_dow', 'order_hour_of_day',\n",
    "#        'days_since_prior_order', 'product_id', 'add_to_cart_order']], figsize = (16, 10));"
   ]
  },
  {
   "cell_type": "markdown",
   "metadata": {},
   "source": [
    "# Explores Model 1 decision tree"
   ]
  },
  {
   "cell_type": "code",
   "execution_count": 54,
   "metadata": {},
   "outputs": [
    {
     "name": "stdout",
     "output_type": "stream",
     "text": [
      "Decision Tree Score round(0.5704918032786885, 2)\n"
     ]
    }
   ],
   "source": [
    "from sklearn.tree import DecisionTreeClassifier\n",
    "from sklearn.model_selection import cross_val_score\n",
    "\n",
    "clf = DecisionTreeClassifier(random_state = 3)\n",
    "clf.fit(X_train, y_train)\n",
    "clf.predict(X_test)\n",
    "dt_score = clf.score(X_test, y_test)"
   ]
  },
  {
   "cell_type": "code",
   "execution_count": 61,
   "metadata": {},
   "outputs": [
    {
     "name": "stdout",
     "output_type": "stream",
     "text": [
      "Decision Tree Score 0.57049\n"
     ]
    }
   ],
   "source": [
    "print(f'Decision Tree Score {dt_score:.5}')"
   ]
  },
  {
   "cell_type": "code",
   "execution_count": 62,
   "metadata": {},
   "outputs": [
    {
     "data": {
      "text/plain": [
       "Index(['user_id', 'order_id', 'order_number', 'order_dow', 'order_hour_of_day',\n",
       "       'days_since_prior_order', 'product_id', 'add_to_cart_order'],\n",
       "      dtype='object')"
      ]
     },
     "execution_count": 62,
     "metadata": {},
     "output_type": "execute_result"
    }
   ],
   "source": [
    "X_train.columns"
   ]
  },
  {
   "cell_type": "code",
   "execution_count": 64,
   "metadata": {},
   "outputs": [
    {
     "name": "stdout",
     "output_type": "stream",
     "text": [
      "Decision Tree Score with removing labels 0.55564\n"
     ]
    }
   ],
   "source": [
    "clf = DecisionTreeClassifier(random_state = 3)\n",
    "clf.fit(X_train[['order_dow', 'order_hour_of_day',\n",
    "       'days_since_prior_order', 'product_id', 'add_to_cart_order']], y_train)\n",
    "clf.predict(X_test[['order_dow', 'order_hour_of_day',\n",
    "       'days_since_prior_order', 'product_id', 'add_to_cart_order']])\n",
    "dt_score2 = clf.score(X_test[['order_dow', 'order_hour_of_day',\n",
    "       'days_since_prior_order', 'product_id', 'add_to_cart_order']], y_test)\n",
    "print(f'Decision Tree Score with removing labels {dt_score2:.5}')"
   ]
  },
  {
   "cell_type": "code",
   "execution_count": 65,
   "metadata": {},
   "outputs": [],
   "source": [
    "from sklearn.tree import DecisionTreeClassifier\n",
    "from sklearn.model_selection import KFold, cross_val_score, GridSearchCV\n",
    "\n",
    "def gridsearch_with_output(estimator, parameter_grid, X_train, y_train):\n",
    "    '''\n",
    "        Parameters: estimator: the type of model (e.g. RandomForestRegressor())\n",
    "                    paramter_grid: dictionary defining the gridsearch parameters\n",
    "                    X_train: 2d numpy array\n",
    "                    y_train: 1d numpy array\n",
    "        Returns:  best parameters and model fit with those parameters\n",
    "    '''\n",
    "    model_gridsearch = GridSearchCV(estimator,\n",
    "                                    parameter_grid,\n",
    "                                    n_jobs=-1,\n",
    "                                    verbose=True,\n",
    "                                    scoring='neg_mean_squared_error')\n",
    "    model_gridsearch.fit(X_train, y_train)\n",
    "    best_params = model_gridsearch.best_params_ \n",
    "    model_best = model_gridsearch.best_estimator_\n",
    "    print(\"\\nResult of gridsearch:\")\n",
    "    print(\"{0:<20s} | {1:<8s} | {2}\".format(\"Parameter\", \"Optimal\", \"Gridsearch values\"))\n",
    "    print(\"-\" * 55)\n",
    "    for param, vals in parameter_grid.items():\n",
    "        print(\"{0:<20s} | {1:<8s} | {2}\".format(str(param), \n",
    "                                                str(best_params[param]),\n",
    "                                                str(vals)))\n",
    "    return best_params, model_best"
   ]
  },
  {
   "cell_type": "code",
   "execution_count": 67,
   "metadata": {},
   "outputs": [
    {
     "name": "stdout",
     "output_type": "stream",
     "text": [
      "Fitting 5 folds for each of 6 candidates, totalling 30 fits\n"
     ]
    },
    {
     "name": "stderr",
     "output_type": "stream",
     "text": [
      "[Parallel(n_jobs=-1)]: Using backend LokyBackend with 12 concurrent workers.\n",
      "[Parallel(n_jobs=-1)]: Done  30 out of  30 | elapsed:   23.2s finished\n"
     ]
    },
    {
     "name": "stdout",
     "output_type": "stream",
     "text": [
      "\n",
      "Result of gridsearch:\n",
      "Parameter            | Optimal  | Gridsearch values\n",
      "-------------------------------------------------------\n",
      "min_samples_split    | 10       | [5, 10]\n",
      "max_features         | log2     | ['auto', 'log2', 'sqrt']\n",
      "random_state         | 3        | [3]\n"
     ]
    }
   ],
   "source": [
    "dt_boosting_grid = {'min_samples_split': [5, 10],\n",
    "                    'max_features': ['auto', 'log2', 'sqrt'],\n",
    "                    'random_state': [3]}   \n",
    "\n",
    "best_params, model_best = gridsearch_with_output(DecisionTreeClassifier(), dt_boosting_grid, X_train, y_train)"
   ]
  },
  {
   "cell_type": "code",
   "execution_count": 69,
   "metadata": {},
   "outputs": [
    {
     "name": "stdout",
     "output_type": "stream",
     "text": [
      "Decision Tree Score with best from gridsearch 0.57502\n"
     ]
    }
   ],
   "source": [
    "clf = DecisionTreeClassifier(min_samples_split = 10, max_features = 'log2', random_state = 3)\n",
    "clf.fit(X_train, y_train)\n",
    "clf.predict(X_test)\n",
    "dt_score3 = clf.score(X_test, y_test)\n",
    "print(f'Decision Tree Score with best from gridsearch {dt_score3:.5}')"
   ]
  },
  {
   "cell_type": "markdown",
   "metadata": {},
   "source": [
    "# Explore Random Forests"
   ]
  },
  {
   "cell_type": "code",
   "execution_count": 76,
   "metadata": {},
   "outputs": [],
   "source": [
    "from sklearn.ensemble import RandomForestClassifier\n",
    "\n",
    "rf = RandomForestClassifier(n_estimators=50)\n",
    "rf.fit(X_train, y_train)\n",
    "y_predict = rf.predict(X_test)\n",
    "score = rf.score(X_test, y_test)"
   ]
  },
  {
   "cell_type": "code",
   "execution_count": 77,
   "metadata": {},
   "outputs": [
    {
     "data": {
      "text/plain": [
       "0.6462615266393442"
      ]
     },
     "execution_count": 77,
     "metadata": {},
     "output_type": "execute_result"
    }
   ],
   "source": [
    "score"
   ]
  },
  {
   "cell_type": "code",
   "execution_count": null,
   "metadata": {},
   "outputs": [
    {
     "name": "stdout",
     "output_type": "stream",
     "text": [
      "Fitting 5 folds for each of 540 candidates, totalling 2700 fits\n"
     ]
    },
    {
     "name": "stderr",
     "output_type": "stream",
     "text": [
      "[Parallel(n_jobs=-1)]: Using backend LokyBackend with 12 concurrent workers.\n",
      "[Parallel(n_jobs=-1)]: Done  26 tasks      | elapsed:  5.4min\n",
      "[Parallel(n_jobs=-1)]: Done 176 tasks      | elapsed: 38.9min\n",
      "[Parallel(n_jobs=-1)]: Done 426 tasks      | elapsed: 105.3min\n"
     ]
    }
   ],
   "source": [
    "random_forest_grid = {'max_depth': [3, 5, 7, None],\n",
    "                      'max_features': ['sqrt', 'log2', None],\n",
    "                      'min_samples_split': [2, 4, 8],\n",
    "                      'min_samples_leaf': [2, 4, 8],\n",
    "                      'n_estimators': [20, 40, 80, 160, 240],\n",
    "                      'random_state': [3]}\n",
    "\n",
    "rf_best_params, rf_best_model = gridsearch_with_output(RandomForestClassifier(), \n",
    "                                                       random_forest_grid, \n",
    "                                                       X_train, y_train)"
   ]
  },
  {
   "cell_type": "code",
   "execution_count": null,
   "metadata": {},
   "outputs": [],
   "source": []
  },
  {
   "cell_type": "code",
   "execution_count": null,
   "metadata": {},
   "outputs": [],
   "source": []
  },
  {
   "cell_type": "code",
   "execution_count": null,
   "metadata": {},
   "outputs": [],
   "source": []
  },
  {
   "cell_type": "code",
   "execution_count": null,
   "metadata": {},
   "outputs": [],
   "source": []
  },
  {
   "cell_type": "code",
   "execution_count": null,
   "metadata": {},
   "outputs": [],
   "source": []
  }
 ],
 "metadata": {
  "kernelspec": {
   "display_name": "Python 3",
   "language": "python",
   "name": "python3"
  },
  "language_info": {
   "codemirror_mode": {
    "name": "ipython",
    "version": 3
   },
   "file_extension": ".py",
   "mimetype": "text/x-python",
   "name": "python",
   "nbconvert_exporter": "python",
   "pygments_lexer": "ipython3",
   "version": "3.7.6"
  }
 },
 "nbformat": 4,
 "nbformat_minor": 4
}
